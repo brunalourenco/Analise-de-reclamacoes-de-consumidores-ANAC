{
 "cells": [
  {
   "cell_type": "markdown",
   "id": "fcfda58e",
   "metadata": {},
   "source": [
    "### Análise de reclamações Anac\n",
    "\n",
    "Identificar as principais reclamações dos consumidores de serviços de transporte áereo no Brasil, no período de 2022 a 2024.\n"
   ]
  },
  {
   "cell_type": "markdown",
   "id": "bf569360",
   "metadata": {},
   "source": [
    "#### 1. Imports"
   ]
  },
  {
   "cell_type": "code",
   "execution_count": 1,
   "id": "09b792d3",
   "metadata": {},
   "outputs": [],
   "source": [
    "import pandas as pd # tratamento de dados\n",
    "import numpy as np # tratamento de dados\n",
    "import matplotlib.pyplot as plt # criar graficos\n",
    "import geopandas as gpd # criar mapas\n",
    "import locale\n",
    "locale.setlocale(locale.LC_ALL, \"pt_BR\") # setar localidade Brasil e puxar datas com nomes brasileiros\n",
    "import openpyxl # para trabalhar com excel"
   ]
  },
  {
   "cell_type": "markdown",
   "id": "71297495",
   "metadata": {},
   "source": [
    "#### 2. Carga de dados"
   ]
  },
  {
   "cell_type": "code",
   "execution_count": 2,
   "id": "8b6b2890",
   "metadata": {},
   "outputs": [],
   "source": [
    "# import de dados \n",
    "df_2022= pd.read_csv(r\"C:/Users/Usuario/Documents/PORTIFOLIO/2025/Analise-reclamacoes-Anac/base_dados/dadosconsumidor2022.csv\",sep=';',  low_memory=False, encoding='latin-1')\n",
    "df_2023= pd.read_csv(r\"C:/Users/Usuario/Documents/PORTIFOLIO/2025/Analise-reclamacoes-Anac/base_dados/dadosconsumidor2023.csv\",sep=';',  low_memory=False, encoding='latin-1')\n",
    "df_2024= pd.read_csv(r\"C:/Users/Usuario/Documents/PORTIFOLIO/2025/Analise-reclamacoes-Anac/base_dados/dadosconsumidor2024.csv\",sep=';',  low_memory=False, encoding='latin-1')\n",
    "\n",
    "# import de infos das UF brasileiras - dados do IBGE\n",
    "# dados disponinveis no link: https://www.ibge.gov.br/  Geociências -> Downloads -> cartas_e_mapas -> bcim -> versão2016 —geopacote\n",
    "\n",
    "info_uf = gpd.read_file(r\"C:/Users/Usuario/Documents/PORTIFOLIO/2025/Analise-reclamacoes-Anac/IBGE/bcim_2016_21_11_2018.gpkg\", layer='lim_unidade_federacao_a')\n"
   ]
  },
  {
   "cell_type": "code",
   "execution_count": 3,
   "id": "3bfa5523",
   "metadata": {},
   "outputs": [],
   "source": [
    "# junta os arquivos de reclamacoes em um único arquivo\n",
    "df= pd.concat([df_2022, df_2023, df_2024])"
   ]
  },
  {
   "cell_type": "markdown",
   "id": "231d8312",
   "metadata": {},
   "source": [
    "#### 3. Análise exploratória de dados"
   ]
  },
  {
   "cell_type": "code",
   "execution_count": 4,
   "id": "16ef309b",
   "metadata": {},
   "outputs": [
    {
     "data": {
      "text/plain": [
       "Index(['nome', 'nomeabrev', 'geometriaaproximada', 'sigla', 'geocodigo',\n",
       "       'id_produtor', 'id_elementoprodutor', 'cd_insumo_orgao',\n",
       "       'nr_insumo_mes', 'nr_insumo_ano', 'tx_insumo_documento', 'geometry'],\n",
       "      dtype='object')"
      ]
     },
     "execution_count": 4,
     "metadata": {},
     "output_type": "execute_result"
    }
   ],
   "source": [
    "# checa colunas de info do df de dados IBGE\n",
    "info_uf.columns"
   ]
  },
  {
   "cell_type": "code",
   "execution_count": 5,
   "id": "dd700640",
   "metadata": {},
   "outputs": [
    {
     "data": {
      "text/html": [
       "<div>\n",
       "<style scoped>\n",
       "    .dataframe tbody tr th:only-of-type {\n",
       "        vertical-align: middle;\n",
       "    }\n",
       "\n",
       "    .dataframe tbody tr th {\n",
       "        vertical-align: top;\n",
       "    }\n",
       "\n",
       "    .dataframe thead th {\n",
       "        text-align: right;\n",
       "    }\n",
       "</style>\n",
       "<table border=\"1\" class=\"dataframe\">\n",
       "  <thead>\n",
       "    <tr style=\"text-align: right;\">\n",
       "      <th></th>\n",
       "      <th>nome</th>\n",
       "      <th>nomeabrev</th>\n",
       "      <th>geometriaaproximada</th>\n",
       "      <th>sigla</th>\n",
       "      <th>geocodigo</th>\n",
       "      <th>id_produtor</th>\n",
       "      <th>id_elementoprodutor</th>\n",
       "      <th>cd_insumo_orgao</th>\n",
       "      <th>nr_insumo_mes</th>\n",
       "      <th>nr_insumo_ano</th>\n",
       "      <th>tx_insumo_documento</th>\n",
       "      <th>geometry</th>\n",
       "    </tr>\n",
       "  </thead>\n",
       "  <tbody>\n",
       "    <tr>\n",
       "      <th>0</th>\n",
       "      <td>Goiás</td>\n",
       "      <td>None</td>\n",
       "      <td>Sim</td>\n",
       "      <td>GO</td>\n",
       "      <td>52</td>\n",
       "      <td>1000001</td>\n",
       "      <td>NaN</td>\n",
       "      <td>NaN</td>\n",
       "      <td>NaN</td>\n",
       "      <td>NaN</td>\n",
       "      <td>None</td>\n",
       "      <td>MULTIPOLYGON (((-50.15876 -12.41581, -50.15743...</td>\n",
       "    </tr>\n",
       "    <tr>\n",
       "      <th>1</th>\n",
       "      <td>Mato Grosso do Sul</td>\n",
       "      <td>None</td>\n",
       "      <td>Sim</td>\n",
       "      <td>MS</td>\n",
       "      <td>50</td>\n",
       "      <td>1000001</td>\n",
       "      <td>NaN</td>\n",
       "      <td>NaN</td>\n",
       "      <td>NaN</td>\n",
       "      <td>NaN</td>\n",
       "      <td>None</td>\n",
       "      <td>MULTIPOLYGON (((-56.09815 -17.1722, -56.09159 ...</td>\n",
       "    </tr>\n",
       "  </tbody>\n",
       "</table>\n",
       "</div>"
      ],
      "text/plain": [
       "                 nome nomeabrev geometriaaproximada sigla geocodigo  \\\n",
       "0               Goiás      None                 Sim    GO        52   \n",
       "1  Mato Grosso do Sul      None                 Sim    MS        50   \n",
       "\n",
       "   id_produtor  id_elementoprodutor  cd_insumo_orgao  nr_insumo_mes  \\\n",
       "0      1000001                  NaN              NaN            NaN   \n",
       "1      1000001                  NaN              NaN            NaN   \n",
       "\n",
       "   nr_insumo_ano tx_insumo_documento  \\\n",
       "0            NaN                None   \n",
       "1            NaN                None   \n",
       "\n",
       "                                            geometry  \n",
       "0  MULTIPOLYGON (((-50.15876 -12.41581, -50.15743...  \n",
       "1  MULTIPOLYGON (((-56.09815 -17.1722, -56.09159 ...  "
      ]
     },
     "execution_count": 5,
     "metadata": {},
     "output_type": "execute_result"
    }
   ],
   "source": [
    "# checa as primeiras linhas do df de uf\n",
    "info_uf.head(2)"
   ]
  },
  {
   "cell_type": "code",
   "execution_count": 6,
   "id": "7fad6a85",
   "metadata": {},
   "outputs": [
    {
     "data": {
      "text/plain": [
       "nome                   27\n",
       "nomeabrev               0\n",
       "geometriaaproximada     1\n",
       "sigla                  27\n",
       "geocodigo              27\n",
       "id_produtor             1\n",
       "id_elementoprodutor     0\n",
       "cd_insumo_orgao         1\n",
       "nr_insumo_mes           0\n",
       "nr_insumo_ano           0\n",
       "tx_insumo_documento     0\n",
       "geometry               27\n",
       "dtype: int64"
      ]
     },
     "execution_count": 6,
     "metadata": {},
     "output_type": "execute_result"
    }
   ],
   "source": [
    "# valores unicos\n",
    "info_uf.nunique()"
   ]
  },
  {
   "cell_type": "code",
   "execution_count": 7,
   "id": "e938f846",
   "metadata": {},
   "outputs": [
    {
     "name": "stdout",
     "output_type": "stream",
     "text": [
      "<class 'geopandas.geodataframe.GeoDataFrame'>\n",
      "RangeIndex: 27 entries, 0 to 26\n",
      "Data columns (total 12 columns):\n",
      " #   Column               Non-Null Count  Dtype   \n",
      "---  ------               --------------  -----   \n",
      " 0   nome                 27 non-null     object  \n",
      " 1   nomeabrev            0 non-null      object  \n",
      " 2   geometriaaproximada  27 non-null     object  \n",
      " 3   sigla                27 non-null     object  \n",
      " 4   geocodigo            27 non-null     object  \n",
      " 5   id_produtor          27 non-null     int32   \n",
      " 6   id_elementoprodutor  0 non-null      float64 \n",
      " 7   cd_insumo_orgao      11 non-null     float64 \n",
      " 8   nr_insumo_mes        0 non-null      float64 \n",
      " 9   nr_insumo_ano        0 non-null      float64 \n",
      " 10  tx_insumo_documento  0 non-null      object  \n",
      " 11  geometry             27 non-null     geometry\n",
      "dtypes: float64(4), geometry(1), int32(1), object(6)\n",
      "memory usage: 2.6+ KB\n"
     ]
    }
   ],
   "source": [
    "# checa informacoes do df\n",
    "info_uf.info()"
   ]
  },
  {
   "cell_type": "code",
   "execution_count": 8,
   "id": "200c10df",
   "metadata": {},
   "outputs": [
    {
     "data": {
      "text/plain": [
       "(301269, 28)"
      ]
     },
     "execution_count": 8,
     "metadata": {},
     "output_type": "execute_result"
    }
   ],
   "source": [
    "# mostra a quantidade de linhas e colunas da base de dados de reclamacoes\n",
    "df.shape"
   ]
  },
  {
   "cell_type": "code",
   "execution_count": null,
   "id": "d71b5723",
   "metadata": {},
   "outputs": [
    {
     "data": {
      "text/html": [
       "<div>\n",
       "<style scoped>\n",
       "    .dataframe tbody tr th:only-of-type {\n",
       "        vertical-align: middle;\n",
       "    }\n",
       "\n",
       "    .dataframe tbody tr th {\n",
       "        vertical-align: top;\n",
       "    }\n",
       "\n",
       "    .dataframe thead th {\n",
       "        text-align: right;\n",
       "    }\n",
       "</style>\n",
       "<table border=\"1\" class=\"dataframe\">\n",
       "  <thead>\n",
       "    <tr style=\"text-align: right;\">\n",
       "      <th></th>\n",
       "      <th>Gestor</th>\n",
       "      <th>Região</th>\n",
       "      <th>UF</th>\n",
       "      <th>Cidade</th>\n",
       "      <th>Ano Abertura</th>\n",
       "      <th>Mês Abertura</th>\n",
       "      <th>Data Abertura</th>\n",
       "      <th>Data e Hora Resposta</th>\n",
       "      <th>Data e Hora Análise</th>\n",
       "      <th>Data e Hora Recusa</th>\n",
       "      <th>...</th>\n",
       "      <th>Problema</th>\n",
       "      <th>Forma Contrato</th>\n",
       "      <th>Procurou Empresa</th>\n",
       "      <th>Respondida</th>\n",
       "      <th>Situação</th>\n",
       "      <th>Avaliação Reclamação</th>\n",
       "      <th>Nota do Consumidor</th>\n",
       "      <th>Edição de Conteúdo</th>\n",
       "      <th>Interação do Gestor</th>\n",
       "      <th>Código Classificador ANAC</th>\n",
       "    </tr>\n",
       "  </thead>\n",
       "  <tbody>\n",
       "    <tr>\n",
       "      <th>0</th>\n",
       "      <td>Secretaria Nacional do Consumidor</td>\n",
       "      <td>CO</td>\n",
       "      <td>DF</td>\n",
       "      <td>Brasília</td>\n",
       "      <td>2022</td>\n",
       "      <td>1</td>\n",
       "      <td>01/01/2022</td>\n",
       "      <td>03/01/2022 16:59</td>\n",
       "      <td>NaN</td>\n",
       "      <td>NaN</td>\n",
       "      <td>...</td>\n",
       "      <td>Dificuldade / atraso na devolução de valores p...</td>\n",
       "      <td>Internet</td>\n",
       "      <td>S</td>\n",
       "      <td>S</td>\n",
       "      <td>Finalizada avaliada</td>\n",
       "      <td>Resolvida</td>\n",
       "      <td>5.0</td>\n",
       "      <td>N</td>\n",
       "      <td>N</td>\n",
       "      <td>S;M;W;D;P;1100</td>\n",
       "    </tr>\n",
       "    <tr>\n",
       "      <th>1</th>\n",
       "      <td>Secretaria Nacional do Consumidor</td>\n",
       "      <td>CO</td>\n",
       "      <td>DF</td>\n",
       "      <td>Brasília</td>\n",
       "      <td>2022</td>\n",
       "      <td>1</td>\n",
       "      <td>01/01/2022</td>\n",
       "      <td>04/01/2022 10:50</td>\n",
       "      <td>NaN</td>\n",
       "      <td>NaN</td>\n",
       "      <td>...</td>\n",
       "      <td>Atraso de voo</td>\n",
       "      <td>Internet</td>\n",
       "      <td>S</td>\n",
       "      <td>S</td>\n",
       "      <td>Finalizada avaliada</td>\n",
       "      <td>Resolvida</td>\n",
       "      <td>5.0</td>\n",
       "      <td>N</td>\n",
       "      <td>N</td>\n",
       "      <td>N;M;O;D;P;9900</td>\n",
       "    </tr>\n",
       "  </tbody>\n",
       "</table>\n",
       "<p>2 rows × 28 columns</p>\n",
       "</div>"
      ],
      "text/plain": [
       "                              Gestor Região  UF    Cidade  Ano Abertura  \\\n",
       "0  Secretaria Nacional do Consumidor     CO  DF  Brasília          2022   \n",
       "1  Secretaria Nacional do Consumidor     CO  DF  Brasília          2022   \n",
       "\n",
       "   Mês Abertura Data Abertura Data e Hora Resposta Data e Hora Análise  \\\n",
       "0             1    01/01/2022     03/01/2022 16:59                 NaN   \n",
       "1             1    01/01/2022     04/01/2022 10:50                 NaN   \n",
       "\n",
       "  Data e Hora Recusa  ...                                           Problema  \\\n",
       "0                NaN  ...  Dificuldade / atraso na devolução de valores p...   \n",
       "1                NaN  ...                                      Atraso de voo   \n",
       "\n",
       "  Forma Contrato  Procurou Empresa  Respondida             Situação  \\\n",
       "0       Internet                 S           S  Finalizada avaliada   \n",
       "1       Internet                 S           S  Finalizada avaliada   \n",
       "\n",
       "  Avaliação Reclamação Nota do Consumidor Edição de Conteúdo  \\\n",
       "0            Resolvida                5.0                  N   \n",
       "1            Resolvida                5.0                  N   \n",
       "\n",
       "  Interação do Gestor Código Classificador ANAC  \n",
       "0                   N            S;M;W;D;P;1100  \n",
       "1                   N            N;M;O;D;P;9900  \n",
       "\n",
       "[2 rows x 28 columns]"
      ]
     },
     "execution_count": 9,
     "metadata": {},
     "output_type": "execute_result"
    }
   ],
   "source": [
    "# checa as primeiras linhas do df de reclamacoes de consumidores - ANAC\n",
    "df.head(2)"
   ]
  },
  {
   "cell_type": "code",
   "execution_count": 10,
   "id": "b733dfd6",
   "metadata": {},
   "outputs": [
    {
     "name": "stdout",
     "output_type": "stream",
     "text": [
      "<class 'pandas.core.frame.DataFrame'>\n",
      "Index: 301269 entries, 0 to 90594\n",
      "Data columns (total 28 columns):\n",
      " #   Column                          Non-Null Count   Dtype  \n",
      "---  ------                          --------------   -----  \n",
      " 0   Gestor                          301269 non-null  object \n",
      " 1   Região                          301269 non-null  object \n",
      " 2   UF                              301269 non-null  object \n",
      " 3   Cidade                          301269 non-null  object \n",
      " 4   Ano Abertura                    301269 non-null  int64  \n",
      " 5   Mês Abertura                    301269 non-null  int64  \n",
      " 6   Data Abertura                   301269 non-null  object \n",
      " 7   Data e Hora Resposta            298485 non-null  object \n",
      " 8   Data e Hora Análise             2885 non-null    object \n",
      " 9   Data e Hora Recusa              2937 non-null    object \n",
      " 10  Data Finalização                274193 non-null  object \n",
      " 11  Prazo Resposta                  301269 non-null  object \n",
      " 12  Prazo Análise Gestor (em dias)  2885 non-null    float64\n",
      " 13  Tempo Resposta (em dias)        298485 non-null  float64\n",
      " 14  Nome Fantasia                   301269 non-null  object \n",
      " 15  Área                            301269 non-null  object \n",
      " 16  Assunto                         301269 non-null  object \n",
      " 17  Grupo Problema                  301267 non-null  object \n",
      " 18  Problema                        301269 non-null  object \n",
      " 19  Forma Contrato                  301269 non-null  object \n",
      " 20  Procurou Empresa                301269 non-null  object \n",
      " 21  Respondida                      301269 non-null  object \n",
      " 22  Situação                        301269 non-null  object \n",
      " 23  Avaliação Reclamação            274266 non-null  object \n",
      " 24  Nota do Consumidor              166342 non-null  float64\n",
      " 25  Edição de Conteúdo              301268 non-null  object \n",
      " 26  Interação do Gestor             301268 non-null  object \n",
      " 27  Código Classificador ANAC       301262 non-null  object \n",
      "dtypes: float64(3), int64(2), object(23)\n",
      "memory usage: 66.7+ MB\n"
     ]
    }
   ],
   "source": [
    "# checa os tipos de dados e se há valores ausentes\n",
    "df.info()"
   ]
  },
  {
   "cell_type": "code",
   "execution_count": 11,
   "id": "05442d7f",
   "metadata": {},
   "outputs": [
    {
     "data": {
      "text/plain": [
       "np.int64(185)"
      ]
     },
     "execution_count": 11,
     "metadata": {},
     "output_type": "execute_result"
    }
   ],
   "source": [
    "# checar valores  duplicadas\n",
    "df.duplicated().sum()"
   ]
  },
  {
   "cell_type": "code",
   "execution_count": 12,
   "id": "f4afc435",
   "metadata": {},
   "outputs": [],
   "source": [
    "# remove valores duplicados e mantém o último registro\n",
    "df = df.drop_duplicates(keep='last')"
   ]
  },
  {
   "cell_type": "code",
   "execution_count": 13,
   "id": "838ab6fc",
   "metadata": {},
   "outputs": [
    {
     "data": {
      "text/plain": [
       "np.int64(0)"
      ]
     },
     "execution_count": 13,
     "metadata": {},
     "output_type": "execute_result"
    }
   ],
   "source": [
    "# checar valores  duplicadas\n",
    "df.duplicated().sum()"
   ]
  },
  {
   "cell_type": "code",
   "execution_count": null,
   "id": "520342ea",
   "metadata": {},
   "outputs": [
    {
     "data": {
      "text/plain": [
       "(301084, 28)"
      ]
     },
     "execution_count": 14,
     "metadata": {},
     "output_type": "execute_result"
    }
   ],
   "source": [
    "# checa quantidade de linhas e colunas do df após a exclusao de valores duplicados\n",
    "df.shape"
   ]
  },
  {
   "cell_type": "code",
   "execution_count": 15,
   "id": "58da1596",
   "metadata": {},
   "outputs": [
    {
     "data": {
      "text/plain": [
       "Gestor                                19\n",
       "Região                                 5\n",
       "UF                                    27\n",
       "Cidade                              3448\n",
       "Ano Abertura                           3\n",
       "Mês Abertura                          12\n",
       "Data Abertura                       1096\n",
       "Data e Hora Resposta              208420\n",
       "Data e Hora Análise                 2863\n",
       "Data e Hora Recusa                  2923\n",
       "Data Finalização                    1131\n",
       "Prazo Resposta                      1105\n",
       "Prazo Análise Gestor (em dias)        24\n",
       "Tempo Resposta (em dias)              28\n",
       "Nome Fantasia                         51\n",
       "Área                                   5\n",
       "Assunto                               10\n",
       "Grupo Problema                         8\n",
       "Problema                              73\n",
       "Forma Contrato                         9\n",
       "Procurou Empresa                       2\n",
       "Respondida                             2\n",
       "Situação                               7\n",
       "Avaliação Reclamação                   3\n",
       "Nota do Consumidor                     5\n",
       "Edição de Conteúdo                     2\n",
       "Interação do Gestor                    2\n",
       "Código Classificador ANAC          44015\n",
       "dtype: int64"
      ]
     },
     "execution_count": 15,
     "metadata": {},
     "output_type": "execute_result"
    }
   ],
   "source": [
    "#checa valores unicos\n",
    "df.nunique()"
   ]
  },
  {
   "cell_type": "markdown",
   "id": "295c0b53",
   "metadata": {},
   "source": [
    "4. Limpeza e tratamento de dados"
   ]
  },
  {
   "cell_type": "code",
   "execution_count": 16,
   "id": "f429f4a2",
   "metadata": {},
   "outputs": [
    {
     "data": {
      "text/plain": [
       "Index(['Gestor', 'Região', 'UF', 'Cidade', 'Data Abertura',\n",
       "       'Data e Hora Resposta', 'Data e Hora Análise', 'Data e Hora Recusa',\n",
       "       'Data Finalização', 'Prazo Resposta', 'Nome Fantasia', 'Área',\n",
       "       'Assunto', 'Grupo Problema', 'Problema', 'Forma Contrato',\n",
       "       'Procurou Empresa', 'Respondida', 'Situação', 'Avaliação Reclamação',\n",
       "       'Edição de Conteúdo', 'Interação do Gestor',\n",
       "       'Código Classificador ANAC'],\n",
       "      dtype='object')"
      ]
     },
     "execution_count": 16,
     "metadata": {},
     "output_type": "execute_result"
    }
   ],
   "source": [
    "# identificando colunas categoricas\n",
    "colunas_categoricas = df.select_dtypes(exclude='number').columns\n",
    "colunas_categoricas"
   ]
  },
  {
   "cell_type": "code",
   "execution_count": 17,
   "id": "f5b0f3ee",
   "metadata": {},
   "outputs": [
    {
     "data": {
      "text/plain": [
       "Index(['Ano Abertura', 'Mês Abertura', 'Prazo Análise Gestor (em dias)',\n",
       "       'Tempo Resposta (em dias)', 'Nota do Consumidor'],\n",
       "      dtype='object')"
      ]
     },
     "execution_count": 17,
     "metadata": {},
     "output_type": "execute_result"
    }
   ],
   "source": [
    "# identificando colunas numericas\n",
    "colunas_numericas = df.select_dtypes(include='number').columns\n",
    "colunas_numericas"
   ]
  },
  {
   "cell_type": "code",
   "execution_count": 18,
   "id": "e0c577c5",
   "metadata": {},
   "outputs": [],
   "source": [
    "# tratamento de datas\n",
    "df['Data Finalização']=pd.to_datetime(df['Data Finalização'], format=(\"%d/%m/%Y\"))\n",
    "df['Ano Finalização']=df['Data Finalização'].dt.year\n",
    "df['Mês Finalização']=df['Data Finalização'].dt.month\n",
    "\n",
    "df['Data Abertura'] = pd.to_datetime(df['Data Abertura'], format=(\"%d/%m/%Y\"))\n",
    "df['Nome Mês Abertura'] = df['Data Abertura'].dt.strftime('%b')\n"
   ]
  },
  {
   "cell_type": "code",
   "execution_count": 19,
   "id": "3711fab2",
   "metadata": {},
   "outputs": [],
   "source": [
    "# removendo colunas desnecessarias \n",
    "df= df.drop(columns=['Gestor', 'Região', 'Data e Hora Resposta', 'Data e Hora Recusa', 'Forma Contrato', 'Data e Hora Análise','Procurou Empresa','Avaliação Reclamação','Nota do Consumidor', 'Edição de Conteúdo','Interação do Gestor','Prazo Resposta', 'Nome Fantasia','Situação', 'Prazo Análise Gestor (em dias)','Tempo Resposta (em dias)'])"
   ]
  },
  {
   "cell_type": "code",
   "execution_count": 20,
   "id": "aa8e8371",
   "metadata": {},
   "outputs": [
    {
     "data": {
      "text/html": [
       "<div>\n",
       "<style scoped>\n",
       "    .dataframe tbody tr th:only-of-type {\n",
       "        vertical-align: middle;\n",
       "    }\n",
       "\n",
       "    .dataframe tbody tr th {\n",
       "        vertical-align: top;\n",
       "    }\n",
       "\n",
       "    .dataframe thead th {\n",
       "        text-align: right;\n",
       "    }\n",
       "</style>\n",
       "<table border=\"1\" class=\"dataframe\">\n",
       "  <thead>\n",
       "    <tr style=\"text-align: right;\">\n",
       "      <th></th>\n",
       "      <th>UF</th>\n",
       "      <th>Cidade</th>\n",
       "      <th>Ano Abertura</th>\n",
       "      <th>Mês Abertura</th>\n",
       "      <th>Data Abertura</th>\n",
       "      <th>Data Finalização</th>\n",
       "      <th>Área</th>\n",
       "      <th>Assunto</th>\n",
       "      <th>Grupo Problema</th>\n",
       "      <th>Problema</th>\n",
       "      <th>Respondida</th>\n",
       "      <th>Código Classificador ANAC</th>\n",
       "      <th>Ano Finalização</th>\n",
       "      <th>Mês Finalização</th>\n",
       "      <th>Nome Mês Abertura</th>\n",
       "    </tr>\n",
       "  </thead>\n",
       "  <tbody>\n",
       "    <tr>\n",
       "      <th>0</th>\n",
       "      <td>DF</td>\n",
       "      <td>Brasília</td>\n",
       "      <td>2022</td>\n",
       "      <td>1</td>\n",
       "      <td>2022-01-01</td>\n",
       "      <td>2022-01-07</td>\n",
       "      <td>Transportes</td>\n",
       "      <td>Aéreo</td>\n",
       "      <td>Cobrança / Contestação</td>\n",
       "      <td>Dificuldade / atraso na devolução de valores p...</td>\n",
       "      <td>S</td>\n",
       "      <td>S;M;W;D;P;1100</td>\n",
       "      <td>2022.0</td>\n",
       "      <td>1.0</td>\n",
       "      <td>jan</td>\n",
       "    </tr>\n",
       "    <tr>\n",
       "      <th>1</th>\n",
       "      <td>DF</td>\n",
       "      <td>Brasília</td>\n",
       "      <td>2022</td>\n",
       "      <td>1</td>\n",
       "      <td>2022-01-01</td>\n",
       "      <td>2022-01-22</td>\n",
       "      <td>Transportes</td>\n",
       "      <td>Aéreo</td>\n",
       "      <td>Vício de Qualidade</td>\n",
       "      <td>Atraso de voo</td>\n",
       "      <td>S</td>\n",
       "      <td>N;M;O;D;P;9900</td>\n",
       "      <td>2022.0</td>\n",
       "      <td>1.0</td>\n",
       "      <td>jan</td>\n",
       "    </tr>\n",
       "  </tbody>\n",
       "</table>\n",
       "</div>"
      ],
      "text/plain": [
       "   UF    Cidade  Ano Abertura  Mês Abertura Data Abertura Data Finalização  \\\n",
       "0  DF  Brasília          2022             1    2022-01-01       2022-01-07   \n",
       "1  DF  Brasília          2022             1    2022-01-01       2022-01-22   \n",
       "\n",
       "          Área Assunto          Grupo Problema  \\\n",
       "0  Transportes   Aéreo  Cobrança / Contestação   \n",
       "1  Transportes   Aéreo      Vício de Qualidade   \n",
       "\n",
       "                                            Problema Respondida  \\\n",
       "0  Dificuldade / atraso na devolução de valores p...          S   \n",
       "1                                      Atraso de voo          S   \n",
       "\n",
       "  Código Classificador ANAC  Ano Finalização  Mês Finalização  \\\n",
       "0            S;M;W;D;P;1100           2022.0              1.0   \n",
       "1            N;M;O;D;P;9900           2022.0              1.0   \n",
       "\n",
       "  Nome Mês Abertura  \n",
       "0               jan  \n",
       "1               jan  "
      ]
     },
     "execution_count": 20,
     "metadata": {},
     "output_type": "execute_result"
    }
   ],
   "source": [
    "# checa as primeiras linhas \n",
    "df.head(2)"
   ]
  },
  {
   "cell_type": "markdown",
   "id": "fdb66223",
   "metadata": {},
   "source": [
    "#### 5. Análises e gráficos"
   ]
  },
  {
   "cell_type": "markdown",
   "id": "bdbf4617",
   "metadata": {},
   "source": [
    "1. Evolução do % de crescimento e quantidade de reclamações no Brasil por ano "
   ]
  },
  {
   "cell_type": "code",
   "execution_count": 21,
   "id": "46e19dc2",
   "metadata": {},
   "outputs": [
    {
     "data": {
      "text/html": [
       "<div>\n",
       "<style scoped>\n",
       "    .dataframe tbody tr th:only-of-type {\n",
       "        vertical-align: middle;\n",
       "    }\n",
       "\n",
       "    .dataframe tbody tr th {\n",
       "        vertical-align: top;\n",
       "    }\n",
       "\n",
       "    .dataframe thead th {\n",
       "        text-align: right;\n",
       "    }\n",
       "</style>\n",
       "<table border=\"1\" class=\"dataframe\">\n",
       "  <thead>\n",
       "    <tr style=\"text-align: right;\">\n",
       "      <th></th>\n",
       "      <th>Ano Abertura</th>\n",
       "      <th>Qtde_reclamacoes</th>\n",
       "      <th>% Crescimento</th>\n",
       "      <th>Qtde reclamacoes resumidas</th>\n",
       "    </tr>\n",
       "  </thead>\n",
       "  <tbody>\n",
       "    <tr>\n",
       "      <th>0</th>\n",
       "      <td>2022</td>\n",
       "      <td>114343</td>\n",
       "      <td>NaN</td>\n",
       "      <td>114</td>\n",
       "    </tr>\n",
       "    <tr>\n",
       "      <th>1</th>\n",
       "      <td>2023</td>\n",
       "      <td>96188</td>\n",
       "      <td>-15.9</td>\n",
       "      <td>96</td>\n",
       "    </tr>\n",
       "    <tr>\n",
       "      <th>2</th>\n",
       "      <td>2024</td>\n",
       "      <td>90553</td>\n",
       "      <td>-5.9</td>\n",
       "      <td>90</td>\n",
       "    </tr>\n",
       "  </tbody>\n",
       "</table>\n",
       "</div>"
      ],
      "text/plain": [
       "   Ano Abertura  Qtde_reclamacoes  % Crescimento  Qtde reclamacoes resumidas\n",
       "0          2022            114343            NaN                         114\n",
       "1          2023             96188          -15.9                          96\n",
       "2          2024             90553           -5.9                          90"
      ]
     },
     "execution_count": 21,
     "metadata": {},
     "output_type": "execute_result"
    }
   ],
   "source": [
    "# filtra df \n",
    "df_ano = df[['Ano Abertura','Data Abertura']]\n",
    "\n",
    "# agrupa df\n",
    "df_ano= df_ano.groupby('Ano Abertura').count().sort_values(by='Data Abertura',ascending=False).reset_index()\n",
    "df_ano = df_ano.rename(columns={'Data Abertura': 'Qtde_reclamacoes'})\n",
    "\n",
    "# cálculos\n",
    "df_ano['% Crescimento'] = round(df_ano['Qtde_reclamacoes'].pct_change()*100,1)\n",
    "df_ano['Qtde reclamacoes resumidas']= (df_ano['Qtde_reclamacoes']/1000).astype(int)\n",
    "df_ano"
   ]
  },
  {
   "cell_type": "code",
   "execution_count": null,
   "id": "4f8bf8d9",
   "metadata": {},
   "outputs": [
    {
     "data": {
      "image/png": "[encoded data removed]",
      "text/plain": [
       "<Figure size 600x400 with 1 Axes>"
      ]
     },
     "metadata": {},
     "output_type": "display_data"
    }
   ],
   "source": [
    "# cria o grafico\n",
    "plt.figure(figsize = (6, 4))\n",
    "\n",
    "barras = plt.bar(df_ano['Ano Abertura'],(df_ano['Qtde reclamacoes resumidas']))\n",
    "\n",
    "plt.bar_label(barras, labels=df_ano['Qtde reclamacoes resumidas'].apply(lambda x: '{} mil'.format(x)),\n",
    "              padding=3,\n",
    "              fontsize=10,\n",
    "              fontweight='bold',\n",
    "             label_type='edge'            \n",
    ")\n",
    "\n",
    "\n",
    "plt.title('Evolução na quantidade de reclamações de consumidores brasileiros', pad=60)\n",
    "\n",
    "# forçar os anos a serem exibidos com inteiros\n",
    "plt.xticks(ticks=df_ano['Ano Abertura'])\n",
    "\n",
    "# retirando o eixo x\n",
    "plt.yticks([])\n",
    "\n",
    "# diminuindo os ticks do eixo y\n",
    "plt.tick_params(axis='x', length=0)\n",
    "\n",
    "\n",
    "# retira bordas \n",
    "plt.box(False)\n",
    "\n",
    "# salva como figura\n",
    "# area do gráfico ajustada  bbox_inches='tight'\n",
    "plt.savefig('imagens/grafico_evolucao_reclamacoes.png', bbox_inches='tight', dpi=300)"
   ]
  },
  {
   "cell_type": "markdown",
   "id": "7c0aa3e8",
   "metadata": {},
   "source": [
    "1.1 - Como foi a evolução do % de reclamações ao longo dos meses durante o período ?"
   ]
  },
  {
   "cell_type": "code",
   "execution_count": 23,
   "id": "49c5a7a7",
   "metadata": {},
   "outputs": [
    {
     "data": {
      "text/html": [
       "<div>\n",
       "<style scoped>\n",
       "    .dataframe tbody tr th:only-of-type {\n",
       "        vertical-align: middle;\n",
       "    }\n",
       "\n",
       "    .dataframe tbody tr th {\n",
       "        vertical-align: top;\n",
       "    }\n",
       "\n",
       "    .dataframe thead th {\n",
       "        text-align: right;\n",
       "    }\n",
       "</style>\n",
       "<table border=\"1\" class=\"dataframe\">\n",
       "  <thead>\n",
       "    <tr style=\"text-align: right;\">\n",
       "      <th></th>\n",
       "      <th>Nome Mês Abertura</th>\n",
       "      <th>Qtde_reclamacoes</th>\n",
       "      <th>% Reclamacoes</th>\n",
       "    </tr>\n",
       "    <tr>\n",
       "      <th>Mês Abertura</th>\n",
       "      <th></th>\n",
       "      <th></th>\n",
       "      <th></th>\n",
       "    </tr>\n",
       "  </thead>\n",
       "  <tbody>\n",
       "    <tr>\n",
       "      <th>1</th>\n",
       "      <td>jan</td>\n",
       "      <td>34177</td>\n",
       "      <td>0.113513</td>\n",
       "    </tr>\n",
       "    <tr>\n",
       "      <th>2</th>\n",
       "      <td>fev</td>\n",
       "      <td>25312</td>\n",
       "      <td>0.084070</td>\n",
       "    </tr>\n",
       "    <tr>\n",
       "      <th>3</th>\n",
       "      <td>mar</td>\n",
       "      <td>26641</td>\n",
       "      <td>0.088484</td>\n",
       "    </tr>\n",
       "    <tr>\n",
       "      <th>4</th>\n",
       "      <td>abr</td>\n",
       "      <td>23020</td>\n",
       "      <td>0.076457</td>\n",
       "    </tr>\n",
       "    <tr>\n",
       "      <th>5</th>\n",
       "      <td>mai</td>\n",
       "      <td>24479</td>\n",
       "      <td>0.081303</td>\n",
       "    </tr>\n",
       "    <tr>\n",
       "      <th>6</th>\n",
       "      <td>jun</td>\n",
       "      <td>23521</td>\n",
       "      <td>0.078121</td>\n",
       "    </tr>\n",
       "    <tr>\n",
       "      <th>7</th>\n",
       "      <td>jul</td>\n",
       "      <td>23223</td>\n",
       "      <td>0.077131</td>\n",
       "    </tr>\n",
       "    <tr>\n",
       "      <th>8</th>\n",
       "      <td>ago</td>\n",
       "      <td>25474</td>\n",
       "      <td>0.084608</td>\n",
       "    </tr>\n",
       "    <tr>\n",
       "      <th>9</th>\n",
       "      <td>set</td>\n",
       "      <td>22967</td>\n",
       "      <td>0.076281</td>\n",
       "    </tr>\n",
       "    <tr>\n",
       "      <th>10</th>\n",
       "      <td>out</td>\n",
       "      <td>26725</td>\n",
       "      <td>0.088763</td>\n",
       "    </tr>\n",
       "    <tr>\n",
       "      <th>11</th>\n",
       "      <td>nov</td>\n",
       "      <td>23897</td>\n",
       "      <td>0.079370</td>\n",
       "    </tr>\n",
       "    <tr>\n",
       "      <th>12</th>\n",
       "      <td>dez</td>\n",
       "      <td>21648</td>\n",
       "      <td>0.071900</td>\n",
       "    </tr>\n",
       "  </tbody>\n",
       "</table>\n",
       "</div>"
      ],
      "text/plain": [
       "             Nome Mês Abertura  Qtde_reclamacoes  % Reclamacoes\n",
       "Mês Abertura                                                   \n",
       "1                          jan             34177       0.113513\n",
       "2                          fev             25312       0.084070\n",
       "3                          mar             26641       0.088484\n",
       "4                          abr             23020       0.076457\n",
       "5                          mai             24479       0.081303\n",
       "6                          jun             23521       0.078121\n",
       "7                          jul             23223       0.077131\n",
       "8                          ago             25474       0.084608\n",
       "9                          set             22967       0.076281\n",
       "10                         out             26725       0.088763\n",
       "11                         nov             23897       0.079370\n",
       "12                         dez             21648       0.071900"
      ]
     },
     "execution_count": 23,
     "metadata": {},
     "output_type": "execute_result"
    }
   ],
   "source": [
    "# filtra df\n",
    "df_ano = df[['Mês Abertura','Nome Mês Abertura','Data Abertura']]\n",
    "\n",
    "# agrupa os dados\n",
    "df_ano= df_ano.groupby(['Nome Mês Abertura','Mês Abertura'])['Data Abertura'].count().reset_index()\n",
    "df_ano = df_ano.rename(columns={'Data Abertura': 'Qtde_reclamacoes'})\n",
    "df_ano = df_ano.sort_values(by='Mês Abertura').set_index('Mês Abertura')\n",
    "\n",
    "# cálculo\n",
    "df_ano['% Reclamacoes'] = df_ano['Qtde_reclamacoes']/df.shape[0]\n",
    "\n",
    "df_ano\n"
   ]
  },
  {
   "cell_type": "code",
   "execution_count": 24,
   "id": "658958c1",
   "metadata": {},
   "outputs": [
    {
     "data": {
      "image/png": "[encoded data removed]",
      "text/plain": [
       "<Figure size 1000x400 with 1 Axes>"
      ]
     },
     "metadata": {},
     "output_type": "display_data"
    }
   ],
   "source": [
    "# cria o grafico\n",
    "\n",
    "plt.figure(figsize = (10, 4))\n",
    "\n",
    "barras = plt.bar(df_ano['Nome Mês Abertura'],df_ano['% Reclamacoes'])\n",
    "\n",
    "plt.bar_label(barras, labels=df_ano['% Reclamacoes'].apply(lambda x: '{:.1%}'.format(x)),\n",
    "              padding=3,\n",
    "              fontsize=10,\n",
    "              fontweight='bold',\n",
    "             label_type='edge'            \n",
    ")\n",
    "\n",
    "plt.title('% de reclamações de consumidores por mês', pad=30)\n",
    "\n",
    "\n",
    "# forçar os anos a serem exibidos com inteiros\n",
    "plt.xticks(ticks=df_ano['Nome Mês Abertura'])\n",
    "\n",
    "# retirando o eixo x\n",
    "plt.yticks([])\n",
    "\n",
    "# diminuindo os ticks do eixo y\n",
    "plt.tick_params(axis='x', length=0)\n",
    "\n",
    "\n",
    "# destacando a barra com a maior qtde de reclamações\n",
    "barras[0].set_color('#08306B')\n",
    "barras[0].set_alpha(0.8)\n",
    "          \n",
    "\n",
    "# retira bordas \n",
    "plt.box(False)\n",
    "\n",
    "\n",
    "# salva como figura\n",
    "# area do gráfico ajustada  bbox_inches='tight'\n",
    "plt.savefig('imagens/grafico_reclamacoes_por_mes.png', bbox_inches='tight', dpi=300)"
   ]
  },
  {
   "cell_type": "markdown",
   "id": "02e08536",
   "metadata": {},
   "source": [
    "2. Qual o % de reclamações por UF ?"
   ]
  },
  {
   "cell_type": "code",
   "execution_count": 25,
   "id": "f2cf2545",
   "metadata": {},
   "outputs": [
    {
     "data": {
      "text/plain": [
       "<Figure size 600x400 with 0 Axes>"
      ]
     },
     "metadata": {},
     "output_type": "display_data"
    },
    {
     "data": {
      "image/png": "[encoded data removed]",
      "text/plain": [
       "<Figure size 1600x1000 with 1 Axes>"
      ]
     },
     "metadata": {},
     "output_type": "display_data"
    }
   ],
   "source": [
    "plt.figure(figsize = (6, 4))\n",
    "\n",
    "#filtra o df original \n",
    "df_uf= df[['UF', 'Data Abertura']]\n",
    "\n",
    "\n",
    "#agrupamento, contagem e dados\n",
    "df_uf= df_uf.groupby('UF').count().sort_values(by='Data Abertura',ascending=False).reset_index()\n",
    "df_uf= df_uf.rename(columns={'Data Abertura':'Qtde_reclamacoes'})\n",
    "df_uf['%_Reclamacoes'] = round((df_uf['Qtde_reclamacoes']/df.shape[0])*100,2)\n",
    "\n",
    "\n",
    "# cria df Brasil com qtde reclamacoes e dados de reclamacoes\n",
    "info_uf= info_uf.rename(columns={'sigla':'UF'})\n",
    "qtde_brasil = info_uf.merge(df_uf, on='UF', how='left')\n",
    "qtde_brasil[['UF','%_Reclamacoes','geometry']]\n",
    "\n",
    "\n",
    "#cria o gráfico\n",
    "qtde_brasil.plot(column='%_Reclamacoes',\n",
    "                 cmap='Blues',\n",
    "                 figsize = (16,10),\n",
    "                 legend= False,\n",
    "                 edgecolor= 'black')\n",
    "\n",
    "# cria o titulo do gráfico\n",
    "plt.title('% de reclamações por UF ')\n",
    "\n",
    "# retirando o eixo x\n",
    "plt.xticks([])\n",
    "\n",
    "# diminuindo os ticks do eixo y\n",
    "plt.yticks([])\n",
    "\n",
    "# cria os labels com % dentro de cada UF                 \n",
    "qtde_brasil['coords'] = qtde_brasil['geometry'].apply(lambda x: x.representative_point().coords[0])\n",
    "for idx, row in qtde_brasil.iterrows():\n",
    "    plt.text(row.coords[0],row.coords[1],\n",
    "            s='{}%'.format(row['%_Reclamacoes']),\n",
    "            horizontalalignment='center',\n",
    "            bbox={'facecolor':'w',\n",
    "                  'alpha':0.8,\n",
    "                  'pad': 0.1,\n",
    "                  'edgecolor':'none'})\n",
    "    \n",
    "# salva como figura\n",
    "# area do gráfico ajustada  bbox_inches='tight'\n",
    "plt.savefig('imagens/grafico_reclamacoes_uf.png', bbox_inches='tight', dpi=300)    "
   ]
  },
  {
   "cell_type": "markdown",
   "id": "36f069c7",
   "metadata": {},
   "source": [
    "3. Quais as 5 cidades com os maiores % de reclamações ?"
   ]
  },
   {
   "cell_type": "code",
   "execution_count": 27,
   "id": "d715c4ae",
   "metadata": {},
   "outputs": [
    {
     "data": {
      "text/html": [
       "<div>\n",
       "<style scoped>\n",
       "    .dataframe tbody tr th:only-of-type {\n",
       "        vertical-align: middle;\n",
       "    }\n",
       "\n",
       "    .dataframe tbody tr th {\n",
       "        vertical-align: top;\n",
       "    }\n",
       "\n",
       "    .dataframe thead th {\n",
       "        text-align: right;\n",
       "    }\n",
       "</style>\n",
       "<table border=\"1\" class=\"dataframe\">\n",
       "  <thead>\n",
       "    <tr style=\"text-align: right;\">\n",
       "      <th></th>\n",
       "      <th>Cidade</th>\n",
       "      <th>Qtde reclamacoes</th>\n",
       "      <th>% Reclamacoes</th>\n",
       "    </tr>\n",
       "  </thead>\n",
       "  <tbody>\n",
       "    <tr>\n",
       "      <th>0</th>\n",
       "      <td>São Paulo</td>\n",
       "      <td>31384</td>\n",
       "      <td>0.104237</td>\n",
       "    </tr>\n",
       "    <tr>\n",
       "      <th>1</th>\n",
       "      <td>Brasília</td>\n",
       "      <td>23666</td>\n",
       "      <td>0.078603</td>\n",
       "    </tr>\n",
       "    <tr>\n",
       "      <th>2</th>\n",
       "      <td>Belo Horizonte</td>\n",
       "      <td>18663</td>\n",
       "      <td>0.061986</td>\n",
       "    </tr>\n",
       "    <tr>\n",
       "      <th>3</th>\n",
       "      <td>Rio de Janeiro</td>\n",
       "      <td>18124</td>\n",
       "      <td>0.060196</td>\n",
       "    </tr>\n",
       "    <tr>\n",
       "      <th>4</th>\n",
       "      <td>Curitiba</td>\n",
       "      <td>10362</td>\n",
       "      <td>0.034416</td>\n",
       "    </tr>\n",
       "  </tbody>\n",
       "</table>\n",
       "</div>"
      ],
      "text/plain": [
       "           Cidade  Qtde reclamacoes  % Reclamacoes\n",
       "0       São Paulo             31384       0.104237\n",
       "1        Brasília             23666       0.078603\n",
       "2  Belo Horizonte             18663       0.061986\n",
       "3  Rio de Janeiro             18124       0.060196\n",
       "4        Curitiba             10362       0.034416"
      ]
     },
     "execution_count": 27,
     "metadata": {},
     "output_type": "execute_result"
    }
   ],
   "source": [
    "# filtra o df\n",
    "df_cidade = df[['Cidade', 'Data Abertura']]\n",
    "\n",
    "# agrupa dados e cálculos\n",
    "df_cidade= df_cidade.groupby(['Cidade']).count().sort_values(by='Data Abertura',ascending=False).reset_index()\n",
    "df_cidade = df_cidade.rename(columns= {'Data Abertura':'Qtde reclamacoes'})\n",
    "\n",
    "# seleciona as 5 cidades com mais reclamacoes\n",
    "df_top5_cidades = df_cidade.nlargest(5,'Qtde reclamacoes','first')\n",
    "df_top5_cidades['% Reclamacoes']=  df_cidade['Qtde reclamacoes']/df.shape[0]\n",
    "\n",
    "df_top5_cidades\n"
   ]
  },
  {
   "cell_type": "code",
   "execution_count": 28,
   "id": "ff868423",
   "metadata": {},
   "outputs": [
    {
     "data": {
      "image/png": "[encoded data removed]",
      "text/plain": [
       "<Figure size 600x400 with 1 Axes>"
      ]
     },
     "metadata": {},
     "output_type": "display_data"
    }
   ],
   "source": [
    "# cria o gráfico\n",
    "plt.figure(figsize = (6, 4))\n",
    "\n",
    "barras = plt.barh(df_top5_cidades['Cidade'], df_top5_cidades['% Reclamacoes'])\n",
    "\n",
    "plt.bar_label(barras, \n",
    "             labels=df_top5_cidades['% Reclamacoes'].apply(lambda x: '{:.1%}'.format(x)),\n",
    "             padding= 3\n",
    ")\n",
    "\n",
    "plt.title('Top 5 - Cidades por % de reclamações', pad=30)\n",
    "\n",
    "plt.tick_params(axis='y', length=0)\n",
    "plt.xticks([])\n",
    "\n",
    "plt.gca().invert_yaxis() #ordena as barras do maior para o menor\n",
    "\n",
    "plt.box(False)\n",
    "\n",
    "# salva como figura\n",
    "# area do gráfico ajustada  bbox_inches='tight'\n",
    "plt.savefig('imagens/grafico_por_cidades.png', bbox_inches='tight', dpi=300)"
   ]
  },
  {
   "cell_type": "markdown",
   "id": "92d46fbf",
   "metadata": {},
   "source": [
    "4. Qual o % de reclamações por Área e por ano ?"
   ]
  },
  {
   "cell_type": "code",
   "execution_count": null,
   "id": "9c43b689",
   "metadata": {},
   "outputs": [],
   "source": [
    "#filtra o df\n",
    "df_area = df[['Área','Data Abertura']]\n",
    "\n",
    "# agrupa os dados\n",
    "df_area = df_area.groupby(['Área']).count().sort_values(by='Data Abertura', ascending=False)\n",
    "df_area = df_area.rename(columns= {'Data Abertura':'Qtde reclamacoes',\n",
    "                                   'Área': 'Area'})\n",
    "\n",
    "# cálculos\n",
    "df_area['% Reclamacoes']=  df_area['Qtde reclamacoes']/df.shape[0] # Total de reclamacoes/ Total de linhas do df\n",
    "df_area['% Reclamacoes'] = df_area['% Reclamacoes']\n",
    "df_area\n",
    "\n",
    "# exporta para excel\n",
    "df_area.to_excel('resumos/reclamacoes_por_area.xlsx')\n"
   ]
  },
  {
   "cell_type": "markdown",
   "id": "9957ef1a",
   "metadata": {},
   "source": [
    "5. Qual o % de reclamações dos Top5 problemas na Área de transportes no período ?"
   ]
  },
  {
   "cell_type": "code",
   "execution_count": 30,
   "id": "fdc9f3b4",
   "metadata": {},
   "outputs": [
    {
     "data": {
      "text/html": [
       "<div>\n",
       "<style scoped>\n",
       "    .dataframe tbody tr th:only-of-type {\n",
       "        vertical-align: middle;\n",
       "    }\n",
       "\n",
       "    .dataframe tbody tr th {\n",
       "        vertical-align: top;\n",
       "    }\n",
       "\n",
       "    .dataframe thead th {\n",
       "        text-align: right;\n",
       "    }\n",
       "</style>\n",
       "<table border=\"1\" class=\"dataframe\">\n",
       "  <thead>\n",
       "    <tr style=\"text-align: right;\">\n",
       "      <th></th>\n",
       "      <th>Problema</th>\n",
       "      <th>Qtde reclamacoes</th>\n",
       "      <th>% Reclamacoes</th>\n",
       "    </tr>\n",
       "  </thead>\n",
       "  <tbody>\n",
       "    <tr>\n",
       "      <th>0</th>\n",
       "      <td>Dificuldade / atraso na devolução de valores p...</td>\n",
       "      <td>52490</td>\n",
       "      <td>0.174337</td>\n",
       "    </tr>\n",
       "    <tr>\n",
       "      <th>1</th>\n",
       "      <td>Cancelamento de voo</td>\n",
       "      <td>29386</td>\n",
       "      <td>0.097601</td>\n",
       "    </tr>\n",
       "    <tr>\n",
       "      <th>2</th>\n",
       "      <td>Oferta não cumprida / serviço não fornecido/ v...</td>\n",
       "      <td>24399</td>\n",
       "      <td>0.081037</td>\n",
       "    </tr>\n",
       "    <tr>\n",
       "      <th>3</th>\n",
       "      <td>SAC - Demanda não resolvida / não respondida /...</td>\n",
       "      <td>22678</td>\n",
       "      <td>0.075321</td>\n",
       "    </tr>\n",
       "    <tr>\n",
       "      <th>4</th>\n",
       "      <td>Extravio/ avaria de bagagem, carga, correspond...</td>\n",
       "      <td>21075</td>\n",
       "      <td>0.069997</td>\n",
       "    </tr>\n",
       "  </tbody>\n",
       "</table>\n",
       "</div>"
      ],
      "text/plain": [
       "                                            Problema  Qtde reclamacoes  \\\n",
       "0  Dificuldade / atraso na devolução de valores p...             52490   \n",
       "1                                Cancelamento de voo             29386   \n",
       "2  Oferta não cumprida / serviço não fornecido/ v...             24399   \n",
       "3  SAC - Demanda não resolvida / não respondida /...             22678   \n",
       "4  Extravio/ avaria de bagagem, carga, correspond...             21075   \n",
       "\n",
       "   % Reclamacoes  \n",
       "0       0.174337  \n",
       "1       0.097601  \n",
       "2       0.081037  \n",
       "3       0.075321  \n",
       "4       0.069997  "
      ]
     },
     "execution_count": 30,
     "metadata": {},
     "output_type": "execute_result"
    }
   ],
   "source": [
    "# filtra o df para área de transporte\n",
    "df_problema = df['Área']== 'Transportes'\n",
    "df_problema = df[['Problema','Data Abertura']]\n",
    "\n",
    "# agrupa dados \n",
    "df_problema = df_problema.groupby(['Problema']).count().sort_values(by='Data Abertura', ascending=False).reset_index()\n",
    "df_problema = df_problema.rename(columns= {'Data Abertura':'Qtde reclamacoes'})\n",
    "\n",
    "# cálculos\n",
    "df_problema['% Reclamacoes']=  df_problema['Qtde reclamacoes']/df.shape[0]\n",
    "df_top5_problema_transportes = df_problema.nlargest(5,'% Reclamacoes','first')\n",
    "df_top5_problema_transportes"
   ]
  },
  {
   "cell_type": "code",
   "execution_count": 31,
   "id": "c12e6fca",
   "metadata": {},
   "outputs": [
    {
     "data": {
      "image/png": "[encoded data removed]",
      "text/plain": [
       "<Figure size 600x400 with 1 Axes>"
      ]
     },
     "metadata": {},
     "output_type": "display_data"
    }
   ],
   "source": [
    "# cria o gráfico\n",
    "plt.figure(figsize = (6, 4))\n",
    "\n",
    "barras = plt.barh(df_top5_problema_transportes['Problema'], df_top5_problema_transportes['% Reclamacoes'])\n",
    "\n",
    "plt.bar_label(barras, \n",
    "             labels=df_top5_problema_transportes['% Reclamacoes'].apply(lambda x: '{:.1%}'.format(x)),\n",
    "             padding= 3\n",
    ")\n",
    "\n",
    "\n",
    "plt.title('Top 5 - Problemas por % de reclamações - Área de Transportes', pad=30, ha='right')\n",
    "\n",
    "\n",
    "plt.tick_params(axis='y', length=0)\n",
    "plt.xticks([])\n",
    "\n",
    "plt.gca().invert_yaxis() #ordena as barras do maior para o menor\n",
    "\n",
    "plt.box(False)\n",
    "\n",
    "\n",
    "# salva como figura\n",
    "# area do gráfico ajustada  bbox_inches='tight'\n",
    "plt.savefig('imagens/grafico_por_problemas.png', bbox_inches='tight', dpi=300)"
   ]
  },
  {
   "cell_type": "markdown",
   "id": "104e088b",
   "metadata": {},
   "source": [
    "6. Qual o % de resposta a reclamacoes por ano?"
   ]
  },
  {
   "cell_type": "code",
   "execution_count": 32,
   "id": "ef3e1161",
   "metadata": {},
   "outputs": [
    {
     "data": {
      "text/plain": [
       "(301084, 15)"
      ]
     },
     "execution_count": 32,
     "metadata": {},
     "output_type": "execute_result"
    }
   ],
   "source": [
    "df.shape"
   ]
  },
  {
   "cell_type": "code",
   "execution_count": 33,
   "id": "c8035b5c",
   "metadata": {},
   "outputs": [
    {
     "data": {
      "text/html": [
       "<div>\n",
       "<style scoped>\n",
       "    .dataframe tbody tr th:only-of-type {\n",
       "        vertical-align: middle;\n",
       "    }\n",
       "\n",
       "    .dataframe tbody tr th {\n",
       "        vertical-align: top;\n",
       "    }\n",
       "\n",
       "    .dataframe thead th {\n",
       "        text-align: right;\n",
       "    }\n",
       "</style>\n",
       "<table border=\"1\" class=\"dataframe\">\n",
       "  <thead>\n",
       "    <tr style=\"text-align: right;\">\n",
       "      <th></th>\n",
       "      <th>Respondida</th>\n",
       "      <th>Qtde respostas</th>\n",
       "      <th>% Reclamacoes</th>\n",
       "    </tr>\n",
       "  </thead>\n",
       "  <tbody>\n",
       "    <tr>\n",
       "      <th>0</th>\n",
       "      <td>N</td>\n",
       "      <td>2687</td>\n",
       "      <td>0.9</td>\n",
       "    </tr>\n",
       "    <tr>\n",
       "      <th>1</th>\n",
       "      <td>S</td>\n",
       "      <td>298397</td>\n",
       "      <td>99.1</td>\n",
       "    </tr>\n",
       "  </tbody>\n",
       "</table>\n",
       "</div>"
      ],
      "text/plain": [
       "  Respondida  Qtde respostas  % Reclamacoes\n",
       "0          N            2687            0.9\n",
       "1          S          298397           99.1"
      ]
     },
     "execution_count": 33,
     "metadata": {},
     "output_type": "execute_result"
    }
   ],
   "source": [
    "#filtra o df com as colunas necessárias para a análise\n",
    "df_reclamacoes = df[['Respondida', 'Data Abertura']]\n",
    "\n",
    "# agrupa os dados \n",
    "df_reclamacoes = df_reclamacoes.groupby(['Respondida']).count().reset_index()\n",
    "df_reclamacoes = df_reclamacoes.rename(columns= {'Data Abertura':'Qtde respostas'})\n",
    "\n",
    "# cálculos\n",
    "df_reclamacoes['% Reclamacoes']=  round((df_reclamacoes['Qtde respostas']/df.shape[0]*100),1)\n",
    "df_reclamacoes"
   ]
  }
 ],
 "metadata": {
  "kernelspec": {
   "display_name": "Python 3",
   "language": "python",
   "name": "python3"
  },
  "language_info": {
   "codemirror_mode": {
    "name": "ipython",
    "version": 3
   },
   "file_extension": ".py",
   "mimetype": "text/x-python",
   "name": "python",
   "nbconvert_exporter": "python",
   "pygments_lexer": "ipython3",
   "version": "3.12.7"
  }
 },
 "nbformat": 4,
 "nbformat_minor": 5
}
